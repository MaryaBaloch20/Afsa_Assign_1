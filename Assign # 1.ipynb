{
 "cells": [
  {
   "cell_type": "code",
   "execution_count": 1,
   "id": "ff532870",
   "metadata": {},
   "outputs": [
    {
     "name": "stdout",
     "output_type": "stream",
     "text": [
      "Twinkle, twinkle, little star,\n",
      "\t How I wonder what you are!\n",
      "\t\tUp above the world so high,\n",
      "\t\tLike a diamond in the sky.\n",
      "Twinkle, twinkle, little star,\n",
      "\t How I wonder what you are!\n"
     ]
    }
   ],
   "source": [
    "#Question 1\n",
    "print(\"Twinkle, twinkle, little star,\")\n",
    "\n",
    "print(\"\\t How I wonder what you are!\")\n",
    "\n",
    "print(\"\\t\\tUp above the world so high,\")\n",
    "\n",
    "print(\"\\t\\tLike a diamond in the sky.\")\n",
    "\n",
    "print(\"Twinkle, twinkle, little star,\")\n",
    "\n",
    "print(\"\\t How I wonder what you are!\")\n",
    "\n"
   ]
  },
  {
   "cell_type": "code",
   "execution_count": 2,
   "id": "3dbafcda",
   "metadata": {},
   "outputs": [
    {
     "name": "stdout",
     "output_type": "stream",
     "text": [
      "3.8.8 (default, Apr 13 2021, 15:08:03) [MSC v.1916 64 bit (AMD64)]\n"
     ]
    }
   ],
   "source": [
    "#Question 2\n",
    "import sys \n",
    "\n",
    "print(sys.version)"
   ]
  },
  {
   "cell_type": "code",
   "execution_count": 3,
   "id": "93641b47",
   "metadata": {},
   "outputs": [
    {
     "name": "stdout",
     "output_type": "stream",
     "text": [
      "Current Date and Time: \n",
      "2021-12-31 15:04:12.298750\n"
     ]
    }
   ],
   "source": [
    "#Question 3\n",
    "import datetime\n",
    "\n",
    "current_time = datetime.datetime.now();\n",
    "print(\"Current Date and Time: \")\n",
    "print(current_time)"
   ]
  },
  {
   "cell_type": "code",
   "execution_count": 4,
   "id": "585ec2b0",
   "metadata": {},
   "outputs": [
    {
     "name": "stdout",
     "output_type": "stream",
     "text": [
      "Enter Radius of a Circle: 2\n",
      "Area Of A Circle is:  \n",
      "12.566\n"
     ]
    }
   ],
   "source": [
    "#Question 4\n",
    "pi = 3.1415;\n",
    "\n",
    "rad = float(input(\"Enter Radius of a Circle: \"))\n",
    "\n",
    "Area= pi*rad*rad;\n",
    "print(\"Area Of A Circle is:  \")\n",
    "\n",
    "print(Area)"
   ]
  },
  {
   "cell_type": "code",
   "execution_count": 5,
   "id": "8e97c8d7",
   "metadata": {},
   "outputs": [
    {
     "name": "stdout",
     "output_type": "stream",
     "text": [
      "Enter First Name: Afsa\n",
      "Enter Last Name: Riaz\n",
      "Reversed Name: \n",
      "Riaz Afsa\n"
     ]
    }
   ],
   "source": [
    "#Question 5\n",
    "x = input(\"Enter First Name: \");\n",
    "y = input(\"Enter Last Name: \");\n",
    "z = y+\" \"+x;\n",
    "\n",
    "print(\"Reversed Name: \")\n",
    "\n",
    "print(z);\n"
   ]
  },
  {
   "cell_type": "code",
   "execution_count": 6,
   "id": "c6c689f5",
   "metadata": {},
   "outputs": [
    {
     "name": "stdout",
     "output_type": "stream",
     "text": [
      "Enter First  Number: 18\n",
      "Enter Second Number: 24\n",
      "The Addition Of Both Number is: \n",
      "42\n"
     ]
    }
   ],
   "source": [
    "#Question 6\n",
    "x=int(input(\"Enter First  Number: \"));\n",
    "y=int(input(\"Enter Second Number: \"));\n",
    "z=x+y;\n",
    "\n",
    "print(\"The Addition Of Both Number is: \")\n",
    "\n",
    "print(z);"
   ]
  },
  {
   "cell_type": "code",
   "execution_count": null,
   "id": "f0e77f16",
   "metadata": {},
   "outputs": [],
   "source": []
  }
 ],
 "metadata": {
  "kernelspec": {
   "display_name": "Python 3",
   "language": "python",
   "name": "python3"
  },
  "language_info": {
   "codemirror_mode": {
    "name": "ipython",
    "version": 3
   },
   "file_extension": ".py",
   "mimetype": "text/x-python",
   "name": "python",
   "nbconvert_exporter": "python",
   "pygments_lexer": "ipython3",
   "version": "3.8.8"
  }
 },
 "nbformat": 4,
 "nbformat_minor": 5
}
